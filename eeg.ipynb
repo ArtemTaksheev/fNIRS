{
 "cells": [
  {
   "cell_type": "code",
   "execution_count": 1,
   "metadata": {},
   "outputs": [],
   "source": [
    "import mne\n",
    "import numpy as np\n",
    "import matplotlib.pyplot as plt\n"
   ]
  },
  {
   "cell_type": "code",
   "execution_count": 7,
   "metadata": {},
   "outputs": [
    {
     "name": "stdout",
     "output_type": "stream",
     "text": [
      "Extracting EDF parameters from c:\\opencv\\eotestbrite34.edf...\n",
      "EDF file detected\n",
      "Setting channel info structure...\n",
      "Creating raw.info structure...\n",
      "{}\n",
      "[]\n"
     ]
    },
    {
     "name": "stderr",
     "output_type": "stream",
     "text": [
      "C:\\Users\\artyo\\AppData\\Local\\Temp\\ipykernel_5500\\3280465893.py:5: RuntimeWarning: Channel names are not unique, found duplicates for: {'Rx8 - Tx10 HHb', 'Rx8 - Tx9 HHb', 'Rx4 - Tx8 HHb', 'Rx7 - Tx7 HHb', 'Rx6 - Tx8 HHb', 'Rx8 - Tx9 O2Hb', 'Rx4 - Tx3 HHb', 'Rx1 - Tx1 HHb', 'Rx2 - Tx4 HHb', 'Rx4 - Tx8 O2Hb', 'Rx2 - Tx3 HHb', 'Rx4 - Tx3 O2Hb', 'Rx3 - Tx2 HHb', 'Rx1 - Tx1 O2Hb', 'Rx6 - Tx4 HHb', 'Rx6 - Tx9 O2Hb', 'Rx1 - Tx2 O2Hb', 'Rx3 - Tx5 O2Hb', 'Rx1 - Tx3 O2Hb', 'Rx2 - Tx4 O2Hb', 'Rx5 - Tx5 O2Hb', 'Rx1 - Tx2 HHb', 'Rx7 - Tx10 O2Hb', 'Rx1 - Tx3 HHb', 'Rx7 - Tx8 O2Hb', 'Rx4 - Tx5 O2Hb', 'Rx4 - Tx4 O2Hb', 'Rx7 - Tx7 O2Hb', 'Rx2 - Tx1 O2Hb', 'Rx5 - Tx7 HHb', 'Rx2 - Tx1 HHb', 'Rx3 - Tx2 O2Hb', 'Rx3 - Tx6 HHb', 'Rx4 - Tx5 HHb', 'Rx3 - Tx3 HHb', 'Rx5 - Tx6 O2Hb', 'Rx8 - Tx10 O2Hb', 'Rx8 - Tx8 HHb', 'Rx3 - Tx5 HHb', 'Rx7 - Tx8 HHb', 'Rx3 - Tx6 O2Hb', 'Rx7 - Tx5 HHb', 'Rx3 - Tx3 O2Hb', 'Rx6 - Tx9 HHb', 'Rx6 - Tx4 O2Hb', 'Rx7 - Tx10 HHb', 'Rx5 - Tx6 HHb', 'Rx5 - Tx7 O2Hb', 'Rx7 - Tx5 O2Hb', 'Rx8 - Tx8 O2Hb', 'Rx4 - Tx4 HHb', 'Rx2 - Tx3 O2Hb', 'Rx6 - Tx8 O2Hb', 'Rx5 - Tx5 HHb'}. Applying running numbers for duplicates.\n",
      "  raw = mne.io.read_raw_edf(\"eotestbrite34.edf\",encoding='latin1')\n",
      "C:\\Users\\artyo\\AppData\\Local\\Temp\\ipykernel_5500\\3280465893.py:5: RuntimeWarning: Number of records from the header does not match the file size (perhaps the recording was not stopped before exiting). Inferring from the file size.\n",
      "  raw = mne.io.read_raw_edf(\"eotestbrite34.edf\",encoding='latin1')\n"
     ]
    },
    {
     "ename": "IndexError",
     "evalue": "index 0 is out of bounds for axis 0 with size 0",
     "output_type": "error",
     "traceback": [
      "\u001b[1;31m---------------------------------------------------------------------------\u001b[0m",
      "\u001b[1;31mIndexError\u001b[0m                                Traceback (most recent call last)",
      "\u001b[1;32mc:\\opencv\\eeg.ipynb Cell 2\u001b[0m in \u001b[0;36m1\n\u001b[0;32m     <a href='vscode-notebook-cell:/c%3A/opencv/eeg.ipynb#W1sZmlsZQ%3D%3D?line=11'>12</a>\u001b[0m event_id \u001b[39m=\u001b[39m {\u001b[39m'\u001b[39m\u001b[39meventButton\u001b[39m\u001b[39m'\u001b[39m:\u001b[39m1\u001b[39m, \u001b[39m'\u001b[39m\u001b[39mФоновая запись (testUser)\u001b[39m\u001b[39m'\u001b[39m:\u001b[39m2\u001b[39m}\n\u001b[0;32m     <a href='vscode-notebook-cell:/c%3A/opencv/eeg.ipynb#W1sZmlsZQ%3D%3D?line=12'>13</a>\u001b[0m \u001b[39m# show events\u001b[39;00m\n\u001b[0;32m     <a href='vscode-notebook-cell:/c%3A/opencv/eeg.ipynb#W1sZmlsZQ%3D%3D?line=13'>14</a>\u001b[0m fig \u001b[39m=\u001b[39m mne\u001b[39m.\u001b[39mviz\u001b[39m.\u001b[39mplot_events(events_from_annot, event_id\u001b[39m=\u001b[39mevent_id,\n\u001b[0;32m     <a href='vscode-notebook-cell:/c%3A/opencv/eeg.ipynb#W1sZmlsZQ%3D%3D?line=14'>15</a>\u001b[0m                           sfreq\u001b[39m=\u001b[39mraw\u001b[39m.\u001b[39minfo[\u001b[39m'\u001b[39m\u001b[39msfreq\u001b[39m\u001b[39m'\u001b[39m],\n\u001b[1;32m---> <a href='vscode-notebook-cell:/c%3A/opencv/eeg.ipynb#W1sZmlsZQ%3D%3D?line=15'>16</a>\u001b[0m                           first_samp\u001b[39m=\u001b[39mevents_from_annot[\u001b[39m0\u001b[39;49m, \u001b[39m0\u001b[39;49m])\n\u001b[0;32m     <a href='vscode-notebook-cell:/c%3A/opencv/eeg.ipynb#W1sZmlsZQ%3D%3D?line=17'>18</a>\u001b[0m \u001b[39m# keep the color-code for further plotting\u001b[39;00m\n\u001b[0;32m     <a href='vscode-notebook-cell:/c%3A/opencv/eeg.ipynb#W1sZmlsZQ%3D%3D?line=18'>19</a>\u001b[0m stage_colors \u001b[39m=\u001b[39m plt\u001b[39m.\u001b[39mrcParams[\u001b[39m'\u001b[39m\u001b[39maxes.prop_cycle\u001b[39m\u001b[39m'\u001b[39m]\u001b[39m.\u001b[39mby_key()[\u001b[39m'\u001b[39m\u001b[39mcolor\u001b[39m\u001b[39m'\u001b[39m]\n",
      "\u001b[1;31mIndexError\u001b[0m: index 0 is out of bounds for axis 0 with size 0"
     ]
    }
   ],
   "source": [
    "plt.switch_backend('QtAgg')\n",
    "plt.ion() #Makes plot interactive\n",
    "\n",
    "# get raw data from .edf file\n",
    "raw = mne.io.read_raw_edf(\"eotestbrite34.edf\",encoding='latin1')\n",
    "# raw = mne.io.read_raw_nirx(\"eotestbrite34.edf\", verbose=True)\n",
    "\n",
    "# get annotation (events) from edf file (edf+)\n",
    "events_from_annot, event_dict = mne.events_from_annotations(raw)\n",
    "print(event_dict)\n",
    "print(events_from_annot[:5])\n",
    "event_id = {'eventButton':1, 'Фоновая запись (testUser)':2}\n",
    "# show events\n",
    "fig = mne.viz.plot_events(events_from_annot, event_id=event_id,\n",
    "                          sfreq=raw.info['sfreq'],\n",
    "                          first_samp=events_from_annot[0, 0])\n",
    "\n",
    "# keep the color-code for further plotting\n",
    "stage_colors = plt.rcParams['axes.prop_cycle'].by_key()['color']\n",
    "\n",
    "# plot some data\n",
    "# scalings were chosen manually to allow for simultaneous visualization of\n",
    "# different channel types in this specific dataset\n",
    "raw.plot(start=0, duration=60,\n",
    "               scalings=dict(eeg=1e-4, resp=1e3, eog=1e-4, emg=1e-7,\n",
    "                             misc=1e-1), lowpass=40)"
   ]
  },
  {
   "cell_type": "code",
   "execution_count": 3,
   "metadata": {},
   "outputs": [
    {
     "name": "stdout",
     "output_type": "stream",
     "text": [
      "Effective window size : 0.512 (s)\n"
     ]
    },
    {
     "data": {
      "text/plain": [
       "<MNELineFigure size 1250x437.5 with 1 Axes>"
      ]
     },
     "execution_count": 3,
     "metadata": {},
     "output_type": "execute_result"
    }
   ],
   "source": [
    "spectrum = raw.compute_psd()\n",
    "spectrum.plot(average=True)"
   ]
  },
  {
   "cell_type": "code",
   "execution_count": 4,
   "metadata": {},
   "outputs": [],
   "source": [
    "# midline = ['EEG F4-AA','EEG O1-AA']\n",
    "# spectrum.plot(picks=midline)"
   ]
  },
  {
   "cell_type": "code",
   "execution_count": 5,
   "metadata": {},
   "outputs": [
    {
     "name": "stdout",
     "output_type": "stream",
     "text": [
      "Not setting metadata\n",
      "18 matching events found\n",
      "Applying baseline correction (mode: mean)\n",
      "0 projection items activated\n",
      "Loading data for 18 events and 7501 original time points ...\n",
      "    Rejecting  epoch based on EEG : ['EEG O2-AA', 'EEG CZ-AA']\n",
      "    Rejecting  epoch based on EEG : ['EEG F3-AA']\n",
      "    Rejecting  epoch based on EEG : ['EEG F3-AA']\n",
      "4 bad epochs dropped\n"
     ]
    },
    {
     "data": {
      "text/html": [
       "<table class=\"table table-hover table-striped table-sm table-responsive small\">\n",
       "    <tr>\n",
       "        <th>Number of events</th>\n",
       "        <td>14</td>\n",
       "    </tr>\n",
       "    <tr>\n",
       "        <th>Events</th>\n",
       "        \n",
       "        <td>eventButton: 14<br/>Фоновая запись (testUser): 0</td>\n",
       "        \n",
       "    </tr>\n",
       "    <tr>\n",
       "        <th>Time range</th>\n",
       "        <td>0.000 – 15.000 sec</td>\n",
       "    </tr>\n",
       "    <tr>\n",
       "        <th>Baseline</th>\n",
       "        <td>0.000 – 0.000 sec</td>\n",
       "    </tr>\n",
       "</table>"
      ],
      "text/plain": [
       "<Epochs |  14 events (all good), 0 - 15 sec, baseline 0 – 0 sec, ~15 kB, data not loaded,\n",
       " 'eventButton': 14\n",
       " 'Фоновая запись (testUser)': 0>"
      ]
     },
     "execution_count": 5,
     "metadata": {},
     "output_type": "execute_result"
    }
   ],
   "source": [
    "\n",
    "# Extract 15 s epochs relative to events, baseline correct, linear detrend, and reject \n",
    "# epochs where eeg amplitude is > 400\n",
    "epochs = mne.Epochs(raw, events_from_annot, event_id=event_id, tmin=0,\n",
    "                    tmax=15, baseline=(0, 0), reject=dict(eeg=0.000400), detrend=1)  \n",
    "\n",
    "# Drop bad trials\n",
    "epochs.drop_bad()"
   ]
  },
  {
   "cell_type": "code",
   "execution_count": 6,
   "metadata": {},
   "outputs": [
    {
     "name": "stdout",
     "output_type": "stream",
     "text": [
      "combining channels using \"mean\"\n",
      "Channels marked as bad:\n",
      "none\n"
     ]
    },
    {
     "data": {
      "text/plain": [
       "[<Figure size 1000x750 with 1 Axes>]"
      ]
     },
     "execution_count": 6,
     "metadata": {},
     "output_type": "execute_result"
    }
   ],
   "source": [
    "# Average erpochs to form ERPs\n",
    "attend6 = epochs['eventButton'].average()\n",
    "\n",
    "# Plot ERPs\n",
    "evokeds = dict(attend6=list(epochs['eventButton'].iter_evoked()))\n",
    "mne.viz.plot_compare_evokeds(evokeds, combine='mean')"
   ]
  }
 ],
 "metadata": {
  "kernelspec": {
   "display_name": "Python 3",
   "language": "python",
   "name": "python3"
  },
  "language_info": {
   "codemirror_mode": {
    "name": "ipython",
    "version": 3
   },
   "file_extension": ".py",
   "mimetype": "text/x-python",
   "name": "python",
   "nbconvert_exporter": "python",
   "pygments_lexer": "ipython3",
   "version": "3.10.10"
  },
  "orig_nbformat": 4,
  "vscode": {
   "interpreter": {
    "hash": "3a96301c6853ff25e9e4db0dbcab7be5ca3cb28f30b914fc659656a901c7e54a"
   }
  }
 },
 "nbformat": 4,
 "nbformat_minor": 2
}
